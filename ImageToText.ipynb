{
 "cells": [
  {
   "cell_type": "code",
   "execution_count": 48,
   "metadata": {},
   "outputs": [],
   "source": [
    "import pytesseract\n",
    "import cv2\n",
    "import sys\n",
    "import pandas as pd\n",
    "import numpy as np\n",
    "import os\n",
    "import re\n",
    "from scipy import ndimage"
   ]
  },
  {
   "cell_type": "code",
   "execution_count": 14,
   "metadata": {},
   "outputs": [],
   "source": [
    "def rotatationCheck(im):\n",
    "    if int(re.search('(?<=Rotate: )\\d+', pytesseract.image_to_osd(im)).group(0)) !=0:\n",
    "        #rotation angle in degree\n",
    "        rotated = ndimage.rotate(im, int(re.search('(?<=Rotate: )\\d+', pytesseract.image_to_osd(im)).group(0)))\n",
    "        return rotated\n",
    "    else:\n",
    "        return im"
   ]
  },
  {
   "cell_type": "code",
   "execution_count": 25,
   "metadata": {},
   "outputs": [],
   "source": [
    "def rotateImage(image):\n",
    "    angle=int(re.search('(?<=Rotate: )\\d+', pytesseract.image_to_osd(image)).group(0))\n",
    "    row,col = image.shape\n",
    "    center=tuple(np.array([row,col])/2)\n",
    "    rot_mat = cv2.getRotationMatrix2D(center,360-angle,1.0)\n",
    "    new_image = cv2.warpAffine(image, rot_mat, (col,row))\n",
    "    return new_image"
   ]
  },
  {
   "cell_type": "code",
   "execution_count": 35,
   "metadata": {},
   "outputs": [],
   "source": [
    "def rotate(image, center = None, scale = 1.0):\n",
    "    angle=360-int(re.search('(?<=Rotate: )\\d+', pytesseract.image_to_osd(image)).group(0))\n",
    "    (h, w) = image.shape[:2]\n",
    "\n",
    "    if center is None:\n",
    "        center = (w / 2, h / 2)\n",
    "\n",
    "    # Perform the rotation\n",
    "    M = cv2.getRotationMatrix2D(center, angle, scale)\n",
    "    rotated = cv2.warpAffine(image, M, (w, h))\n",
    "\n",
    "    return rotated"
   ]
  },
  {
   "cell_type": "code",
   "execution_count": 36,
   "metadata": {},
   "outputs": [],
   "source": [
    "def imagePreprocess(img):\n",
    "    # Rescale the image, if needed.\n",
    "    img = cv2.resize(img, None, fx=1.5, fy=1.5, interpolation=cv2.INTER_CUBIC)\n",
    "    # Convert to gray\n",
    "    img = cv2.cvtColor(img, cv2.COLOR_BGR2GRAY)\n",
    "\n",
    "    # Apply dilation and erosion to remove some noise\n",
    "    kernel = np.ones((1, 1), np.uint8)\n",
    "    img = cv2.dilate(img, kernel, iterations=1)\n",
    "    img = cv2.erode(img, kernel, iterations=1)\n",
    "    # Apply threshold to get image with only black and white\n",
    "    img = cv2.adaptiveThreshold(cv2.medianBlur(img, 3), 255, cv2.ADAPTIVE_THRESH_GAUSSIAN_C, cv2.THRESH_BINARY, 31, 2)\n",
    "    \n",
    "    return img"
   ]
  },
  {
   "cell_type": "code",
   "execution_count": 45,
   "metadata": {},
   "outputs": [],
   "source": [
    "def images_to_text(testImg):\n",
    "    print('Reading images form the directory..........')\n",
    "    dataFile=[]\n",
    "    for filename in os.listdir(testImg):\n",
    "        os.chdir(testImg)\n",
    "        # Define config parameters.\n",
    "        # '-l eng'  for using the English language \n",
    "        # '--oem 1' for using LSTM OCR Engine\n",
    "        config = ('-l eng --oem 1 --psm 3')\n",
    "        # Read image from disk\n",
    "         # Read image from disk\n",
    "        im = cv2.imread(str(filename), cv2.IMREAD_COLOR)\n",
    "        # Apply preprocessing on image\n",
    "        #im = imagePreprocess(im)\n",
    "        # performing rotation check\n",
    "        #im = rotatationCheck(image)\n",
    "        #im=rotateImage(image)\n",
    "        im=rotate(im)\n",
    "        # Run tesseract OCR on image\n",
    "        text = pytesseract.image_to_string(im, config=config)\n",
    "        # getting hocr output\n",
    "        #pytesseract.run_tesseract('image.png', 'output', lang=None, boxes=False, config=\"hocr\")\n",
    "        #basic preprocessing of the text\n",
    "        text = text.replace('\\t',' ')\n",
    "        text= text.rstrip()\n",
    "        text= text.lstrip()\n",
    "        text = text.replace(' +',' ')\n",
    "        text = text.replace('\\n+','\\n')\n",
    "        text = text.replace('\\n+ +',' ')\n",
    "\n",
    "        #writing data to file\n",
    "        os.chdir(imgTxt)\n",
    "        rep=filename[-3:]\n",
    "        name=filename.replace(rep,'txt')\n",
    "        with open(name, 'w') as writeFile:\n",
    "            writeFile.write(\"%s\\n\" % text)\n",
    "        text = text.replace('\\n',' ')\n",
    "        dataFile.append(text)\n",
    "    print('Writing data to file done')    \n",
    "    return dataFile"
   ]
  },
  {
   "cell_type": "code",
   "execution_count": 46,
   "metadata": {},
   "outputs": [
    {
     "name": "stdout",
     "output_type": "stream",
     "text": [
      "Reading images form the directory..........\n",
      "Writing data to file done\n",
      "Done\n",
      "Total number of images read and converted:  9\n"
     ]
    }
   ],
   "source": [
    "testImg=\"/home/ikscare/Documents/Projects/Mousam/imageFile\"\n",
    "imgTxt=\"/home/ikscare/Documents/Projects/Mousam/DC_using_OCR/imageTxt\"\n",
    "images = []\n",
    "\n",
    "for filename in os.listdir(testImg):\n",
    "\timg = os.path.join(testImg,filename)\n",
    "\tif img is not None:\n",
    "\t\timages.append(img)\n",
    "\n",
    "#readContent=images_to_text(images)\n",
    "readContent=images_to_text(testImg)\n",
    "print(\"Done\")\n",
    "print('Total number of images read and converted: ',len(readContent))"
   ]
  },
  {
   "cell_type": "code",
   "execution_count": 56,
   "metadata": {},
   "outputs": [
    {
     "data": {
      "text/plain": [
       "True"
      ]
     },
     "execution_count": 56,
     "metadata": {},
     "output_type": "execute_result"
    }
   ],
   "source": [
    "from pytesseract import pytesseract\n",
    "image='/home/ikscare/Documents/Projects/Mousam/imageFile/explanation_of_benefits.txt-page0.tiff'\n",
    "pytesseract.run_tesseract(image, '/home/ikscare/Documents/Projects/Mousam/imageFile/output', lang=None, extension='tiff', config=\"hocr\")"
   ]
  }
 ],
 "metadata": {
  "kernelspec": {
   "display_name": "Python 3",
   "language": "python",
   "name": "python3"
  },
  "language_info": {
   "codemirror_mode": {
    "name": "ipython",
    "version": 3
   },
   "file_extension": ".py",
   "mimetype": "text/x-python",
   "name": "python",
   "nbconvert_exporter": "python",
   "pygments_lexer": "ipython3",
   "version": "3.6.8"
  }
 },
 "nbformat": 4,
 "nbformat_minor": 2
}
