{
 "cells": [
  {
   "cell_type": "code",
   "execution_count": 2,
   "metadata": {},
   "outputs": [],
   "source": [
    "import nltk\n",
    "from nltk.tokenize import word_tokenize\n",
    "from nltk.tag import pos_tag\n",
    "import re"
   ]
  },
  {
   "cell_type": "code",
   "execution_count": 31,
   "metadata": {},
   "outputs": [],
   "source": [
    "document=\"\"\"\n",
    " OUTPATIENT PSYCHIATRIC CLINIC\n",
    " \n",
    "2121 Main Street\n",
    " \n",
    "Raleigh, NSW 2644\n",
    " \n",
    "02-9291-1343\n",
    " \n",
    "SAMPLE MENTAL HEALTH PROGRESS NOTE\n",
    " \n",
    "Date of Exam:\n",
    "3/16/2012\n",
    " \n",
    "Time of Exam: 3:20:41 PM\n",
    " \n",
    "Patient Name: Smith, Anna\n",
    " \n",
    "Patient Number:\n",
    "1000010544165\n",
    " \n",
    " Anna shows minimal treatment response as of today. Anna continues to exhibit symptoms of a generalized anxiety disorder.Symptoms continue the same in frequency and intensity, and no significant improvement is noted. Symptoms of this disorder occur more days than not. Sleep difficulty continues unchanged. Feelings of increased muscular tension across neck andshoulders continue unchanged. Anna describes feeling irritable. Continuing difficulty concentrating is described. Feelings of fatigue are described as continuing unchanged.\n",
    " \n",
    "Medication has been taken regularly. She has to force herself to socialize with others. A fair night's sleep is described. Sleep was notcontinuous and not completely restful.\n",
    " \n",
    "Content of Therapy:\n",
    " Anna admitted to feeling overwhelmed and anxious even when completing the smallest project. Becoming easilyfrustrated was\n",
    " \n",
    "also discussed by the patient. \"When will this jumpiness end?\"\n",
    " \n",
    "Therapeutic Interventions:\n",
    "The main therapeutic techniques used this session involved helping to identify areas of difficulty and todevelop coping\n",
    " \n",
    "skills and to manage stress. This session the therapeutic focus was on improving the patient's self-compassion. Patient willmake positive statements regarding self and the ability to cope with the stresses of life.\n",
    " \n",
    "MENTAL STATUS:\n",
    " Anna is irritable, distracted, and fully communicative, casually groomed, and appears anxious. She exhibits speech that isnormal in\n",
    " \n",
    "rate, volume, and articulation and is coherent and spontaneous. Language skills are intact. Mood is entirely normal with no signs of depression or mood elevation. Her affect is congruent with mood. There are no signs of hallucinations, delusions, bizarre behaviors, or other indicators of psychotic process. Associations are intact, thinking is logical, and thought content is appropriate. Homicidal ideas or intentionsare convincingly denied. Cognitive functioning and fund of knowledge is intact and age appropriate. Short and long term memory is intact, asis ability to abstract and do arithmetic calculations. This patient is fully oriented. Clinically, IQ appears to be in the above average range.Insight into illness is fair. Social judgment is intact. There are signs of anxiety. Anna is fidgety.\n",
    " \n",
    "DIAGNOSES:\n",
    "The following Diagnoses are based on currently available information and may change as additional information becomesavailable.\n",
    " \n",
    " Axis I:\n",
    " \n",
    "Generalized Anxiety Disorder, 300.02 (Active)\n",
    " \n",
    "INSTRUCTIONS / RECOMMENDATIONS / PLAN:\n",
    " \n",
    "Link to Treatment Plan Problem:\n",
    "Anxiety\n",
    " \n",
    "Short Term Goals:\n",
    " \n",
    " Anna will have anxiety symptoms less than 50% of the time for one month.\n",
    " \n",
    "Target Date: 4/25/2012\n",
    " \n",
    "In addition, Anna will exhibit increased self-confidence as reported by client on a self-report 0-10 scale weekly for two months. Target Date: 5/23/2012\n",
    " \n",
    "----------------------\n",
    " \n",
    "No progress in reaching these goals or resolving problems was apparent today.\n",
    " \n",
    "Recommend continuing the current intervention and short term goals. It is felt that more time is needed for the intervention to work.\n",
    " \n",
    "Return 1-2 weeks or earlier if needed.\n",
    " \n",
    "90805 (psychotherapy w. E/M services)\n",
    " \n",
    "Time spent counseling and coordinating care: 45-50 min\n",
    " \n",
    "Session start: 2:00 PM\n",
    " \n",
    "Session end: 2:50 PM\n",
    " \n",
    "Liz Lobao, MD\n",
    " \n",
    "Electronically Signed\n",
    " \n",
    "By: Liz Lobao, RN\n",
    " \n",
    "On: 3/16/2012 3:22:34 PM\"\"\""
   ]
  },
  {
   "cell_type": "code",
   "execution_count": 37,
   "metadata": {},
   "outputs": [],
   "source": [
    "document=\"\"\"\n",
    "WeServeEveryone Clinic\t \n",
    "1111 First Street California\n",
    "111-111-11111   Fax: 111-111-1111\tChart Summary\n",
    "Monica Latte\n",
    "\n",
    "Home: 444-444-4444\n",
    "Female  DOB: 04/04/1950 \t0000-44444\tIns: Commercial xxxxx\n",
    "                                                     \n",
    "\n",
    "Patient Information\n",
    "Patient Name: Monica Latte\tHome Phone: 444-444-4444\n",
    "Address: 4444 Coffee Ave\n",
    "                Chocolate, California\tOffice Phone:\n",
    "Patient ID: 0000-44444\tFax:\n",
    "Birth Date: 04/04/1950 \tStatus: Active\n",
    "Gender: Female \tMarital Status: Divorced\n",
    "Contact By: Phone\tRace: Black\n",
    "Soc Sec No: 444-444-4444 \tLanguage: English\n",
    "Resp Prov: Carl Savem\tMRN: MR-111-1111\n",
    "Referred by:\tEmp. Status: Full-time\n",
    "Email:\tSens Chart: No\n",
    "Home LOC:WeServeEveryone\tExternal ID: MR-111-1111\n",
    "Problems\n",
    "DIABETES MELLITUS (ICD-250.)\n",
    "HYPERTENSION, BENIGN ESSENTIAL (ICD-401.1)\n",
    "\n",
    "Medications\n",
    "PRINIVIL TABS 20 MG (LISINOPRIL) 1 po qd\n",
    "Last Refill: #30 x 2 : Carl Savem MD (08/27/2010)\n",
    "HUMULIN INJ 70/30 (INSULIN REG & ISOPHANE (HUMAN)) 20 units ac breakfast\n",
    "Last Refill: #600 u x 0 : Carl Jones Jr. MD (08/27/2010)\n",
    "\n",
    "Directives\n",
    "Allergies and Adverse Reactions (! = critical)\n",
    "\n",
    "Services Due\n",
    "\n",
    "FLU VAX, PNEUMOVAX, MICROALB URN\n",
    "\n",
    "3/18/2011 - Office Visit: F/u Diabetes\n",
    "Provider: Dr. Carl D. Jose MD\n",
    "Location of Care: WeServeEveryone Clinic \n",
    "Provider Name : Dr. Mousam Singh\n",
    "Second Provider : Shivam Singh MD\"\"\""
   ]
  },
  {
   "cell_type": "code",
   "execution_count": 24,
   "metadata": {},
   "outputs": [],
   "source": [
    "def preprocess(sent):\n",
    "    sent = nltk.word_tokenize(sent)\n",
    "    sent = nltk.pos_tag(sent)\n",
    "    return sent"
   ]
  },
  {
   "cell_type": "code",
   "execution_count": 26,
   "metadata": {},
   "outputs": [],
   "source": [
    "tagSentences=preprocess(document)\n",
    "#tagSentences"
   ]
  },
  {
   "cell_type": "code",
   "execution_count": 6,
   "metadata": {},
   "outputs": [],
   "source": [
    "pattern = 'NP: {<NNP><NNP>}'"
   ]
  },
  {
   "cell_type": "code",
   "execution_count": 7,
   "metadata": {},
   "outputs": [],
   "source": [
    "cp = nltk.RegexpParser(pattern)\n",
    "cs = cp.parse(tagSentences)"
   ]
  },
  {
   "cell_type": "code",
   "execution_count": 27,
   "metadata": {},
   "outputs": [],
   "source": [
    "from nltk.chunk import conlltags2tree, tree2conlltags\n",
    "ne_tree = nltk.ne_chunk(pos_tag(word_tokenize(document)))\n",
    "#print(ne_tree.draw)"
   ]
  },
  {
   "cell_type": "code",
   "execution_count": 28,
   "metadata": {},
   "outputs": [
    {
     "data": {
      "text/plain": [
       "[]"
      ]
     },
     "execution_count": 28,
     "metadata": {},
     "output_type": "execute_result"
    }
   ],
   "source": [
    "chunks=[]\n",
    "if pos_tag(word_tokenize(document)) == 'CD':\n",
    "    chunks.append(nltk.ne_chunk(pos_tag(word_tokenize(document))))\n",
    "chunks"
   ]
  },
  {
   "cell_type": "code",
   "execution_count": 29,
   "metadata": {},
   "outputs": [
    {
     "name": "stdout",
     "output_type": "stream",
     "text": [
      "PERSON Smith\n",
      "PERSON Anna Patient\n",
      "PERSON Anna\n",
      "PERSON Anna\n",
      "PERSON Sleep\n",
      "PERSON Anna\n",
      "PERSON Anna\n",
      "PERSON Clinically\n",
      "PERSON Anna\n",
      "PERSON Anxiety Disorder\n",
      "PERSON Treatment Plan Problem\n",
      "PERSON Anxiety Short Term Goals\n",
      "PERSON Anna\n",
      "PERSON Target Date\n",
      "PERSON Anna\n",
      "PERSON Target Date\n",
      "PERSON Liz Lobao\n"
     ]
    }
   ],
   "source": [
    "provider=[]\n",
    "#for sentences in document:\n",
    "for sentence in nltk.sent_tokenize(document):\n",
    "    for chunk in nltk.ne_chunk(nltk.pos_tag(nltk.word_tokenize(sentence))):\n",
    "        if hasattr(chunk, 'label'):\n",
    "            if(chunk.label()=='PERSON'):\n",
    "                print(chunk.label(), ' '.join(c[0] for c in chunk))\n",
    "                provider.append(' '.join(c[0] for c in chunk))"
   ]
  },
  {
   "cell_type": "code",
   "execution_count": 30,
   "metadata": {},
   "outputs": [
    {
     "data": {
      "text/plain": [
       "['Smith',\n",
       " 'Anna Patient',\n",
       " 'Anna',\n",
       " 'Anna',\n",
       " 'Sleep',\n",
       " 'Anna',\n",
       " 'Anna',\n",
       " 'Clinically',\n",
       " 'Anna',\n",
       " 'Anxiety Disorder',\n",
       " 'Treatment Plan Problem',\n",
       " 'Anxiety Short Term Goals',\n",
       " 'Anna',\n",
       " 'Target Date',\n",
       " 'Anna',\n",
       " 'Target Date',\n",
       " 'Liz Lobao']"
      ]
     },
     "execution_count": 30,
     "metadata": {},
     "output_type": "execute_result"
    }
   ],
   "source": [
    "provider"
   ]
  },
  {
   "cell_type": "code",
   "execution_count": 31,
   "metadata": {},
   "outputs": [
    {
     "name": "stdout",
     "output_type": "stream",
     "text": [
      "ORGANIZATION OUTPATIENT\n",
      "ORGANIZATION PSYCHIATRIC\n",
      "ORGANIZATION NSW\n",
      "ORGANIZATION SAMPLE\n",
      "ORGANIZATION MENTAL\n",
      "ORGANIZATION MENTAL\n",
      "ORGANIZATION STATUS\n",
      "ORGANIZATION IQ\n",
      "ORGANIZATION MD Electronically\n",
      "ORGANIZATION RN\n"
     ]
    }
   ],
   "source": [
    "organistion=[]\n",
    "#for sentences in document:\n",
    "for sent in nltk.sent_tokenize(document):\n",
    "    for chunk in nltk.ne_chunk(nltk.pos_tag(nltk.word_tokenize(sent))):\n",
    "        if hasattr(chunk, 'label'):\n",
    "            if(chunk.label()=='ORGANIZATION'):\n",
    "                print(chunk.label(), ' '.join(c[0] for c in chunk))\n",
    "                organistion.append(' '.join(c[0] for c in chunk))"
   ]
  },
  {
   "cell_type": "code",
   "execution_count": 32,
   "metadata": {},
   "outputs": [
    {
     "data": {
      "text/plain": [
       "['OUTPATIENT',\n",
       " 'PSYCHIATRIC',\n",
       " 'NSW',\n",
       " 'SAMPLE',\n",
       " 'MENTAL',\n",
       " 'MENTAL',\n",
       " 'STATUS',\n",
       " 'IQ',\n",
       " 'MD Electronically',\n",
       " 'RN']"
      ]
     },
     "execution_count": 32,
     "metadata": {},
     "output_type": "execute_result"
    }
   ],
   "source": [
    "organistion"
   ]
  },
  {
   "cell_type": "code",
   "execution_count": 33,
   "metadata": {},
   "outputs": [
    {
     "data": {
      "text/plain": [
       "{'Liz Lobao, '}"
      ]
     },
     "execution_count": 33,
     "metadata": {},
     "output_type": "execute_result"
    }
   ],
   "source": [
    "m=[]\n",
    "for person in provider:\n",
    "    if re.search('(?<=Dr. )\\w+\\s\\w+', person) != None:\n",
    "        #print('yes')\n",
    "        m.append((re.search('(?<=Dr. )\\w+\\s\\w+', sentence)).group(0))\n",
    "    elif re.search('\\w+\\s\\w+\\W+(?=MD *)', sentence) != None:\n",
    "        m.append((re.search('\\w+\\s\\w+\\W+(?=MD *)', sentence)).group(0))\n",
    "        \n",
    "set(m)"
   ]
  },
  {
   "cell_type": "code",
   "execution_count": 34,
   "metadata": {},
   "outputs": [
    {
     "data": {
      "text/plain": [
       "['Liz Lobao, ']"
      ]
     },
     "execution_count": 34,
     "metadata": {},
     "output_type": "execute_result"
    }
   ],
   "source": [
    "m=[]\n",
    "for person in provider:\n",
    "    for sentence in document.split('\\n'):\n",
    "        if person in sentence:\n",
    "            if re.search('(?<=Dr. )\\w+\\s\\w+', sentence) != None:\n",
    "                #print('yes')\n",
    "                m.append((re.search('(?<=Dr. )\\w+\\s\\w+', sentence)).group(0))\n",
    "            elif re.search('\\w+\\s\\w+\\W+(?=MD *)', sentence) != None:\n",
    "                m.append((re.search('\\w+\\s\\w+\\W+(?=MD *)', sentence)).group(0))\n",
    "            \n",
    "m"
   ]
  },
  {
   "cell_type": "code",
   "execution_count": 35,
   "metadata": {},
   "outputs": [
    {
     "data": {
      "text/plain": [
       "['Smith', 'Anna', 'Anna', 'Anna', 'Anna', 'Anna', 'Anna', 'Anna']"
      ]
     },
     "execution_count": 35,
     "metadata": {},
     "output_type": "execute_result"
    }
   ],
   "source": [
    "m=[]\n",
    "for person in provider:\n",
    "    for sentence in document.split('\\n'):\n",
    "        if person in sentence:\n",
    "            if 'Patient' in sentence:\n",
    "                #print('yes')\n",
    "                #m.append((re.search('(?<=Dr. )\\w+\\s\\w+', sentence)).group(0))\n",
    "                m.append(person)\n",
    "            \n",
    "m"
   ]
  },
  {
   "cell_type": "code",
   "execution_count": 38,
   "metadata": {},
   "outputs": [
    {
     "name": "stdout",
     "output_type": "stream",
     "text": [
      "04/04/1950\n",
      "04/04/1950\n"
     ]
    }
   ],
   "source": [
    "#date_strings = re.findall(r\"(\\d{2})[/.-](\\d{2})[/.-](\\d{4})\", document)\n",
    "date_strings = re.findall(r\"\\d+[/.-]\\d{2}[/.-]\\d+\", document)\n",
    "date_strings\n",
    "for date in date_strings:\n",
    "     for sentence in document.split('\\n'):\n",
    "        if date in sentence:\n",
    "            if 'DOB' in sentence:\n",
    "                print(date)"
   ]
  }
 ],
 "metadata": {
  "kernelspec": {
   "display_name": "Python 3",
   "language": "python",
   "name": "python3"
  },
  "language_info": {
   "codemirror_mode": {
    "name": "ipython",
    "version": 3
   },
   "file_extension": ".py",
   "mimetype": "text/x-python",
   "name": "python",
   "nbconvert_exporter": "python",
   "pygments_lexer": "ipython3",
   "version": "3.6.8"
  }
 },
 "nbformat": 4,
 "nbformat_minor": 2
}
