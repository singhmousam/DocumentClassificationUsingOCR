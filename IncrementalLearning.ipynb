{
  "nbformat": 4,
  "nbformat_minor": 0,
  "metadata": {
    "colab": {
      "name": "Untitled0.ipynb",
      "version": "0.3.2",
      "provenance": [],
      "include_colab_link": true
    },
    "kernelspec": {
      "name": "python3",
      "display_name": "Python 3"
    }
  },
  "cells": [
    {
      "cell_type": "markdown",
      "metadata": {
        "id": "view-in-github",
        "colab_type": "text"
      },
      "source": [
        "<a href=\"https://colab.research.google.com/github/singhmousam/DocumentClassificationUsingOCR/blob/master/IncrementalLearning.ipynb\" target=\"_parent\"><img src=\"https://colab.research.google.com/assets/colab-badge.svg\" alt=\"Open In Colab\"/></a>"
      ]
    },
    {
      "cell_type": "code",
      "metadata": {
        "id": "x8GutYrPjik4",
        "colab_type": "code",
        "colab": {
          "base_uri": "https://localhost:8080/",
          "height": 34
        },
        "outputId": "605ce732-f51d-41e6-d93c-c7e0012d5d33"
      },
      "source": [
        "import pandas as pd\n",
        "import numpy as np\n",
        "import pickle\n",
        "from keras.preprocessing.text import Tokenizer\n",
        "from keras.models import Sequential\n",
        "from keras.layers import Activation, Dense, Dropout\n",
        "from sklearn.preprocessing import LabelBinarizer\n",
        "import sklearn.datasets as skds\n",
        "from pathlib import Path\n",
        "from keras.models import load_model\n",
        "import os"
      ],
      "execution_count": 1,
      "outputs": [
        {
          "output_type": "stream",
          "text": [
            "Using TensorFlow backend.\n"
          ],
          "name": "stderr"
        }
      ]
    },
    {
      "cell_type": "code",
      "metadata": {
        "id": "xn-L0uEskQC6",
        "colab_type": "code",
        "colab": {}
      },
      "source": [
        "data = pd.read_csv('bbc-text.csv')\n"
      ],
      "execution_count": 0,
      "outputs": []
    },
    {
      "cell_type": "code",
      "metadata": {
        "id": "IIEF-PmmkvDR",
        "colab_type": "code",
        "colab": {
          "base_uri": "https://localhost:8080/",
          "height": 204
        },
        "outputId": "f417f358-6764-48a5-c083-75cae7bdb19c"
      },
      "source": [
        "data.sample(5, random_state=0)"
      ],
      "execution_count": 4,
      "outputs": [
        {
          "output_type": "execute_result",
          "data": {
            "text/html": [
              "<div>\n",
              "<style scoped>\n",
              "    .dataframe tbody tr th:only-of-type {\n",
              "        vertical-align: middle;\n",
              "    }\n",
              "\n",
              "    .dataframe tbody tr th {\n",
              "        vertical-align: top;\n",
              "    }\n",
              "\n",
              "    .dataframe thead th {\n",
              "        text-align: right;\n",
              "    }\n",
              "</style>\n",
              "<table border=\"1\" class=\"dataframe\">\n",
              "  <thead>\n",
              "    <tr style=\"text-align: right;\">\n",
              "      <th></th>\n",
              "      <th>category</th>\n",
              "      <th>text</th>\n",
              "    </tr>\n",
              "  </thead>\n",
              "  <tbody>\n",
              "    <tr>\n",
              "      <th>384</th>\n",
              "      <td>politics</td>\n",
              "      <td>drive to  save  festive holidays efforts are b...</td>\n",
              "    </tr>\n",
              "    <tr>\n",
              "      <th>1983</th>\n",
              "      <td>sport</td>\n",
              "      <td>officials respond in court row australian tenn...</td>\n",
              "    </tr>\n",
              "    <tr>\n",
              "      <th>985</th>\n",
              "      <td>sport</td>\n",
              "      <td>cup holders man utd visit everton holders manc...</td>\n",
              "    </tr>\n",
              "    <tr>\n",
              "      <th>1386</th>\n",
              "      <td>sport</td>\n",
              "      <td>adriano s chelsea link rejected adriano s agen...</td>\n",
              "    </tr>\n",
              "    <tr>\n",
              "      <th>1294</th>\n",
              "      <td>sport</td>\n",
              "      <td>o driscoll/gregan lead aid stars ireland s bri...</td>\n",
              "    </tr>\n",
              "  </tbody>\n",
              "</table>\n",
              "</div>"
            ],
            "text/plain": [
              "      category                                               text\n",
              "384   politics  drive to  save  festive holidays efforts are b...\n",
              "1983     sport  officials respond in court row australian tenn...\n",
              "985      sport  cup holders man utd visit everton holders manc...\n",
              "1386     sport  adriano s chelsea link rejected adriano s agen...\n",
              "1294     sport  o driscoll/gregan lead aid stars ireland s bri..."
            ]
          },
          "metadata": {
            "tags": []
          },
          "execution_count": 4
        }
      ]
    },
    {
      "cell_type": "code",
      "metadata": {
        "id": "KeyVVaYEkoyC",
        "colab_type": "code",
        "colab": {
          "base_uri": "https://localhost:8080/",
          "height": 362
        },
        "outputId": "4a94fac6-bccd-4628-d5bc-c6a9646e6cfd"
      },
      "source": [
        "data.groupby('category').text.count().plot.bar(ylim=0)"
      ],
      "execution_count": 6,
      "outputs": [
        {
          "output_type": "execute_result",
          "data": {
            "text/plain": [
              "<matplotlib.axes._subplots.AxesSubplot at 0x7f7fc95a1198>"
            ]
          },
          "metadata": {
            "tags": []
          },
          "execution_count": 6
        },
        {
          "output_type": "display_data",
          "data": {
            "image/png": "[encoded data removed]",
            "text/plain": [
              "<Figure size 432x288 with 1 Axes>"
            ]
          },
          "metadata": {
            "tags": []
          }
        }
      ]
    },
    {
      "cell_type": "code",
      "metadata": {
        "id": "_8h9wmZYlCPa",
        "colab_type": "code",
        "colab": {}
      },
      "source": [
        "# dividing whole data into sets\n",
        "set1 = data[0:500]\n",
        "set2 = data[500:1000]\n",
        "set3 = data[1000:]"
      ],
      "execution_count": 0,
      "outputs": []
    },
    {
      "cell_type": "code",
      "metadata": {
        "id": "udZVnNWNkUpn",
        "colab_type": "code",
        "colab": {}
      },
      "source": [
        "# Training on set 1\n",
        "text_1 = set1['text']\n",
        "tags_1 = set1['category']"
      ],
      "execution_count": 0,
      "outputs": []
    },
    {
      "cell_type": "code",
      "metadata": {
        "id": "ZBvgoFc1lNl8",
        "colab_type": "code",
        "colab": {}
      },
      "source": [
        "num_labels = 5\n",
        "vocab_size = 50000\n",
        "batch_size = 100\n",
        " \n",
        "# define Tokenizer with Vocab Size\n",
        "tokenizer = Tokenizer(num_words=vocab_size)\n",
        "tokenizer.fit_on_texts(text_1)\n",
        " \n",
        "x_train_1 = tokenizer.texts_to_matrix(text_1, mode='tfidf')\n",
        " \n",
        "encoder = LabelBinarizer()\n",
        "encoder.fit(tags_1)\n",
        "\n",
        "y_train_1 = encoder.transform(tags_1)"
      ],
      "execution_count": 0,
      "outputs": []
    },
    {
      "cell_type": "code",
      "metadata": {
        "id": "-7WDxsAYlOJc",
        "colab_type": "code",
        "colab": {
          "base_uri": "https://localhost:8080/",
          "height": 1000
        },
        "outputId": "2379b60b-0789-4439-9b3d-a08528d51aa5"
      },
      "source": [
        "# model definition\n",
        "model1 = Sequential()\n",
        "model1.add(Dense(512, input_shape=(vocab_size,)))\n",
        "model1.add(Activation('relu'))\n",
        "model1.add(Dropout(0.3))\n",
        "model1.add(Dense(512))\n",
        "model1.add(Activation('relu'))\n",
        "model1.add(Dropout(0.3))\n",
        "model1.add(Dense(num_labels))\n",
        "model1.add(Activation('softmax'))\n",
        "model1.summary()\n",
        " \n",
        "model1.compile(loss='categorical_crossentropy',\n",
        "              optimizer='adam',\n",
        "              metrics=['accuracy'])\n",
        " \n",
        "history = model1.fit(x_train_1, y_train_1,\n",
        "                    batch_size=batch_size,\n",
        "                    epochs=10,\n",
        "                    verbose=1,\n",
        "                    validation_split=0.1)"
      ],
      "execution_count": 10,
      "outputs": [
        {
          "output_type": "stream",
          "text": [
            "WARNING: Logging before flag parsing goes to stderr.\n",
            "W0725 10:02:34.255297 140187916941184 deprecation_wrapper.py:119] From /usr/local/lib/python3.6/dist-packages/keras/backend/tensorflow_backend.py:74: The name tf.get_default_graph is deprecated. Please use tf.compat.v1.get_default_graph instead.\n",
            "\n",
            "W0725 10:02:34.303865 140187916941184 deprecation_wrapper.py:119] From /usr/local/lib/python3.6/dist-packages/keras/backend/tensorflow_backend.py:517: The name tf.placeholder is deprecated. Please use tf.compat.v1.placeholder instead.\n",
            "\n",
            "W0725 10:02:34.311178 140187916941184 deprecation_wrapper.py:119] From /usr/local/lib/python3.6/dist-packages/keras/backend/tensorflow_backend.py:4138: The name tf.random_uniform is deprecated. Please use tf.random.uniform instead.\n",
            "\n",
            "W0725 10:02:34.334784 140187916941184 deprecation_wrapper.py:119] From /usr/local/lib/python3.6/dist-packages/keras/backend/tensorflow_backend.py:133: The name tf.placeholder_with_default is deprecated. Please use tf.compat.v1.placeholder_with_default instead.\n",
            "\n",
            "W0725 10:02:34.347343 140187916941184 deprecation.py:506] From /usr/local/lib/python3.6/dist-packages/keras/backend/tensorflow_backend.py:3445: calling dropout (from tensorflow.python.ops.nn_ops) with keep_prob is deprecated and will be removed in a future version.\n",
            "Instructions for updating:\n",
            "Please use `rate` instead of `keep_prob`. Rate should be set to `rate = 1 - keep_prob`.\n",
            "W0725 10:02:34.415905 140187916941184 deprecation_wrapper.py:119] From /usr/local/lib/python3.6/dist-packages/keras/optimizers.py:790: The name tf.train.Optimizer is deprecated. Please use tf.compat.v1.train.Optimizer instead.\n",
            "\n",
            "W0725 10:02:34.443073 140187916941184 deprecation_wrapper.py:119] From /usr/local/lib/python3.6/dist-packages/keras/backend/tensorflow_backend.py:3295: The name tf.log is deprecated. Please use tf.math.log instead.\n",
            "\n",
            "W0725 10:02:34.587629 140187916941184 deprecation.py:323] From /usr/local/lib/python3.6/dist-packages/tensorflow/python/ops/math_grad.py:1250: add_dispatch_support.<locals>.wrapper (from tensorflow.python.ops.array_ops) is deprecated and will be removed in a future version.\n",
            "Instructions for updating:\n",
            "Use tf.where in 2.0, which has the same broadcast rule as np.where\n"
          ],
          "name": "stderr"
        },
        {
          "output_type": "stream",
          "text": [
            "_________________________________________________________________\n",
            "Layer (type)                 Output Shape              Param #   \n",
            "=================================================================\n",
            "dense_1 (Dense)              (None, 512)               25600512  \n",
            "_________________________________________________________________\n",
            "activation_1 (Activation)    (None, 512)               0         \n",
            "_________________________________________________________________\n",
            "dropout_1 (Dropout)          (None, 512)               0         \n",
            "_________________________________________________________________\n",
            "dense_2 (Dense)              (None, 512)               262656    \n",
            "_________________________________________________________________\n",
            "activation_2 (Activation)    (None, 512)               0         \n",
            "_________________________________________________________________\n",
            "dropout_2 (Dropout)          (None, 512)               0         \n",
            "_________________________________________________________________\n",
            "dense_3 (Dense)              (None, 5)                 2565      \n",
            "_________________________________________________________________\n",
            "activation_3 (Activation)    (None, 5)                 0         \n",
            "=================================================================\n",
            "Total params: 25,865,733\n",
            "Trainable params: 25,865,733\n",
            "Non-trainable params: 0\n",
            "_________________________________________________________________\n",
            "Train on 450 samples, validate on 50 samples\n",
            "Epoch 1/10\n",
            "450/450 [==============================] - 5s 10ms/step - loss: 1.1521 - acc: 0.6044 - val_loss: 0.2538 - val_acc: 0.9800\n",
            "Epoch 2/10\n",
            "450/450 [==============================] - 3s 6ms/step - loss: 0.0613 - acc: 0.9978 - val_loss: 0.0972 - val_acc: 0.9600\n",
            "Epoch 3/10\n",
            "450/450 [==============================] - 3s 6ms/step - loss: 0.0014 - acc: 1.0000 - val_loss: 0.1000 - val_acc: 0.9600\n",
            "Epoch 4/10\n",
            "450/450 [==============================] - 3s 6ms/step - loss: 1.0063e-04 - acc: 1.0000 - val_loss: 0.1289 - val_acc: 0.9600\n",
            "Epoch 5/10\n",
            "450/450 [==============================] - 3s 6ms/step - loss: 2.1701e-05 - acc: 1.0000 - val_loss: 0.1607 - val_acc: 0.9400\n",
            "Epoch 6/10\n",
            "450/450 [==============================] - 3s 6ms/step - loss: 1.6934e-04 - acc: 1.0000 - val_loss: 0.1722 - val_acc: 0.9400\n",
            "Epoch 7/10\n",
            "450/450 [==============================] - 3s 6ms/step - loss: 8.5370e-06 - acc: 1.0000 - val_loss: 0.1799 - val_acc: 0.9400\n",
            "Epoch 8/10\n",
            "450/450 [==============================] - 3s 6ms/step - loss: 1.0837e-06 - acc: 1.0000 - val_loss: 0.1849 - val_acc: 0.9400\n",
            "Epoch 9/10\n",
            "450/450 [==============================] - 3s 6ms/step - loss: 4.2290e-05 - acc: 1.0000 - val_loss: 0.1791 - val_acc: 0.9400\n",
            "Epoch 10/10\n",
            "450/450 [==============================] - 3s 6ms/step - loss: 3.3246e-07 - acc: 1.0000 - val_loss: 0.1739 - val_acc: 0.9400\n"
          ],
          "name": "stdout"
        }
      ]
    },
    {
      "cell_type": "code",
      "metadata": {
        "id": "DYSNZIxQlR5c",
        "colab_type": "code",
        "colab": {
          "base_uri": "https://localhost:8080/",
          "height": 34
        },
        "outputId": "885026d9-75d8-49a2-e027-3214e705f871"
      },
      "source": [
        "# Testing on set 1\n",
        "text_labels = encoder.classes_\n",
        "count = 0\n",
        "for i in range(500):\n",
        "    prediction = model1.predict(np.array([x_train_1[i]]))\n",
        "    predicted_label = text_labels[np.argmax(prediction[0])]\n",
        "    if tags_1.iloc[i] != predicted_label:\n",
        "        count+=1\n",
        "        #print('Actual label:' + tags_1.iloc[i])\n",
        "        #print(\"Predicted label: \" + predicted_label)\n",
        "count"
      ],
      "execution_count": 12,
      "outputs": [
        {
          "output_type": "execute_result",
          "data": {
            "text/plain": [
              "3"
            ]
          },
          "metadata": {
            "tags": []
          },
          "execution_count": 12
        }
      ]
    }
  ]
}