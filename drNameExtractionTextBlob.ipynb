{
 "cells": [
  {
   "cell_type": "code",
   "execution_count": 23,
   "metadata": {},
   "outputs": [],
   "source": [
    "file=\"\"\"\n",
    "WeServeEveryone Clinic\t \n",
    "1111 First Street California\n",
    "111-111-11111   Fax: 111-111-1111\tChart Summary\n",
    "Monica Latte\n",
    "\n",
    "Home: 444-444-4444\n",
    "Female  DOB: 04/04/1950\t0000-44444\tIns: Commercial xxxxx\n",
    "                                                     \n",
    "\n",
    "Patient Information\n",
    "Name: Monica Latte\tHome Phone: 444-444-4444\n",
    "Address: 4444 Coffee Ave\n",
    "                Chocolate, California\tOffice Phone:\n",
    "Patient ID: 0000-44444\tFax:\n",
    "Birth Date: 04/04/1950\tStatus: Active\n",
    "Gender: Female\tMarital Status: Divorced\n",
    "Contact By: Phone\tRace: Black\n",
    "Soc Sec No: 444-444-4444\tLanguage: English\n",
    "Resp Prov: Carl Savem\tMRN: MR-111-1111\n",
    "Referred by:\tEmp. Status: Full-time\n",
    "Email:\tSens Chart: No\n",
    "Home LOC:WeServeEveryone\tExternal ID: MR-111-1111\n",
    "Problems\n",
    "DIABETES MELLITUS (ICD-250.)\n",
    "HYPERTENSION, BENIGN ESSENTIAL (ICD-401.1)\n",
    "\n",
    "Medications\n",
    "PRINIVIL TABS 20 MG (LISINOPRIL) 1 po qd\n",
    "Last Refill: #30 x 2 : Carl Savem MD (08/27/2010)\n",
    "HUMULIN INJ 70/30 (INSULIN REG & ISOPHANE (HUMAN)) 20 units ac breakfast\n",
    "Last Refill: #600 u x 0 : Carl Savem MD (08/27/2010)\n",
    "\n",
    "Directives\n",
    "Allergies and Adverse Reactions (! = critical)\n",
    "\n",
    "Services Due\n",
    "\n",
    "FLU VAX, PNEUMOVAX, MICROALB URN\n",
    "\n",
    "3/18/2011 - Office Visit: F/u Diabetes\n",
    "Provider: Carl Savem MD\n",
    "Location of Care: WeServeEveryone Clinic \n",
    "Provider : Dr Mousam Singh\n",
    "Second Provider : MD Shivam Singh\"\"\""
   ]
  },
  {
   "cell_type": "code",
   "execution_count": 10,
   "metadata": {},
   "outputs": [],
   "source": [
    "##Extracting nouns from the file\n",
    "is_noun = lambda pos: pos[:2] == 'NN'\n",
    "\n",
    "#tokenize\n",
    "tokenized = nltk.word_tokenize(file)\n",
    "nouns = [word for (word, pos) in nltk.pos_tag(tokenized) if is_noun(pos)] \n"
   ]
  },
  {
   "cell_type": "code",
   "execution_count": 12,
   "metadata": {},
   "outputs": [
    {
     "name": "stdout",
     "output_type": "stream",
     "text": [
      "['First', 'Street', 'California', 'Fax', 'Chart', 'Summary', 'Monica', 'Latte', 'Home', 'Female', 'DOB', 'Ins', 'xxxxx', 'Patient', 'Information', 'Name', 'Monica', 'Latte', 'Home', 'Phone', 'Address', 'Coffee', 'Ave', 'Chocolate', 'California', 'Office', 'Phone', 'ID', 'Fax', 'Birth', 'Date', 'Status', 'Gender', 'Female', 'Marital', 'Status', 'Contact', 'Phone', 'Race', 'Black', 'Soc', 'Sec', 'No', 'Language', 'Resp', 'Prov', 'Carl', 'Savem', 'MRN', 'Emp', 'Status', 'Email', 'Chart', 'Home', 'LOC', 'WeServeEveryone', 'External', 'ID', 'Problems', 'DIABETES', 'MELLITUS', 'ICD-250', 'HYPERTENSION', 'BENIGN', 'ESSENTIAL', 'ICD-401.1', 'Medications', 'PRINIVIL', 'TABS', 'MG', 'LISINOPRIL', 'po', 'qd', 'Refill', 'Carl', 'Savem', 'MD', 'HUMULIN', 'INJ', 'INSULIN', 'REG', 'ISOPHANE', 'HUMAN', 'units', 'Refill', 'Carl', 'Savem', 'MD', 'Allergies', 'Adverse', 'Reactions', 'Services', 'Due', 'FLU', 'VAX', 'PNEUMOVAX', 'MICROALB', 'URN', 'Office', 'Visit', 'F/u', 'Provider', 'Carl', 'Savem', 'MD', 'Location', 'Care', 'Clinic']\n"
     ]
    }
   ],
   "source": [
    "#printing nouns\n",
    "print(nouns)"
   ]
  },
  {
   "cell_type": "code",
   "execution_count": null,
   "metadata": {},
   "outputs": [],
   "source": [
    "#----------------------------------------------------"
   ]
  },
  {
   "cell_type": "code",
   "execution_count": 20,
   "metadata": {},
   "outputs": [],
   "source": [
    "#using textblob\n",
    "from textblob import TextBlob\n",
    "blob=TextBlob(file)"
   ]
  },
  {
   "cell_type": "code",
   "execution_count": 58,
   "metadata": {},
   "outputs": [
    {
     "data": {
      "text/plain": [
       "list"
      ]
     },
     "execution_count": 58,
     "metadata": {},
     "output_type": "execute_result"
    }
   ],
   "source": [
    "type(blob.sentences)"
   ]
  },
  {
   "cell_type": "code",
   "execution_count": 24,
   "metadata": {},
   "outputs": [
    {
     "name": "stdout",
     "output_type": "stream",
     "text": [
      "weserveeveryone clinic\n",
      "california\n",
      "fax\n",
      "chart summary monica latte\n",
      "female dob\n",
      "ins\n",
      "commercial\n",
      "patient information name\n",
      "monica latte\n",
      "phone\n",
      "address\n",
      "coffee ave chocolate\n",
      "california\n",
      "phone\n",
      "patient id\n",
      "fax\n",
      "birth date\n",
      "status\n",
      "active gender\n",
      "female marital status\n",
      "divorced contact\n",
      "phone\n",
      "black soc sec\n",
      "language\n",
      "english resp prov\n",
      "carl savem mrn\n",
      "mr-111-1111 referred\n",
      "emp\n",
      "status\n",
      "full-time email\n",
      "sens chart\n",
      "loc\n",
      "weserveeveryone\n",
      "id\n",
      "mr-111-1111 problems diabetes mellitus\n",
      "icd-250\n",
      "hypertension\n",
      "benign essential\n",
      "icd-401.1\n",
      "medications prinivil tabs\n",
      "mg\n",
      "lisinopril\n",
      "po qd\n",
      "refill\n",
      "carl savem md\n",
      "humulin inj\n",
      "insulin reg\n",
      "isophane\n",
      "human\n",
      "units ac breakfast\n",
      "refill\n",
      "u x\n",
      "carl savem md\n",
      "directives allergies\n",
      "adverse reactions\n",
      "flu vax\n",
      "pneumovax\n",
      "microalb urn\n",
      "visit\n",
      "f/u diabetes provider\n",
      "carl savem md location\n",
      "care\n",
      "weserveeveryone clinic provider dr mousam singh\n",
      "provider\n",
      "md shivam singh\n"
     ]
    }
   ],
   "source": [
    "for np in blob.noun_phrases:\n",
    "    print(np)"
   ]
  },
  {
   "cell_type": "code",
   "execution_count": 57,
   "metadata": {},
   "outputs": [
    {
     "name": "stdout",
     "output_type": "stream",
     "text": [
      "carl savem md\n",
      "carl savem md\n",
      "carl savem md location\n",
      "weserveeveryone clinic provider dr mousam singh\n",
      "md shivam singh\n"
     ]
    }
   ],
   "source": [
    "for np in blob.noun_phrases:\n",
    "    #print(type(np))\n",
    "    if 'dr' in str(np).split(' ') or 'md' in str(np).split(' '):\n",
    "        print(np)"
   ]
  }
 ],
 "metadata": {
  "kernelspec": {
   "display_name": "Python 3",
   "language": "python",
   "name": "python3"
  },
  "language_info": {
   "codemirror_mode": {
    "name": "ipython",
    "version": 3
   },
   "file_extension": ".py",
   "mimetype": "text/x-python",
   "name": "python",
   "nbconvert_exporter": "python",
   "pygments_lexer": "ipython3",
   "version": "3.6.8"
  }
 },
 "nbformat": 4,
 "nbformat_minor": 2
}
