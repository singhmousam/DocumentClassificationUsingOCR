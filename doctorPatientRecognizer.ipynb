{
 "cells": [
  {
   "cell_type": "code",
   "execution_count": 1,
   "metadata": {},
   "outputs": [],
   "source": [
    "import nltk\n",
    "from nltk.tokenize import word_tokenize\n",
    "from nltk.tag import pos_tag\n",
    "import re\n",
    "import os"
   ]
  },
  {
   "cell_type": "code",
   "execution_count": 2,
   "metadata": {},
   "outputs": [],
   "source": [
    "folder='/home/ikscare/Documents/Projects/Mousam/textFile'\n",
    "os.chdir(folder)\n",
    "textFiles=os.listdir(folder)"
   ]
  },
  {
   "cell_type": "code",
   "execution_count": 3,
   "metadata": {},
   "outputs": [],
   "source": [
    "def preprocess(sent):\n",
    "    sent = nltk.word_tokenize(sent)\n",
    "    sent = nltk.pos_tag(sent)\n",
    "    return sent"
   ]
  },
  {
   "cell_type": "code",
   "execution_count": 4,
   "metadata": {},
   "outputs": [],
   "source": [
    "def getPersonList(document):\n",
    "    \"\"\"Method to read each document and return a list of all possible persons in that document\n",
    "    \"\"\"\n",
    "    personList=[]\n",
    "    #for sentences in document:\n",
    "    for sentence in nltk.sent_tokenize(document):\n",
    "        for chunk in nltk.ne_chunk(nltk.pos_tag(nltk.word_tokenize(sentence))):\n",
    "            if hasattr(chunk, 'label'):\n",
    "                if(chunk.label()=='PERSON'):\n",
    "                    personList.append(' '.join(c[0] for c in chunk))\n",
    "                    \n",
    "    return personList"
   ]
  },
  {
   "cell_type": "code",
   "execution_count": 5,
   "metadata": {},
   "outputs": [],
   "source": [
    "def getOrganisationList(document):\n",
    "    \"\"\"Method to read each document and return a list of all possible organisations in that document\n",
    "    \"\"\"\n",
    "    organistion=[]\n",
    "    #for sentences in document:\n",
    "    for sent in nltk.sent_tokenize(document):\n",
    "        for chunk in nltk.ne_chunk(nltk.pos_tag(nltk.word_tokenize(sent))):\n",
    "            if hasattr(chunk, 'label'):\n",
    "                if(chunk.label()=='ORGANIZATION'):\n",
    "                    organistion.append(' '.join(c[0] for c in chunk))\n",
    "    \n",
    "    return organistion"
   ]
  },
  {
   "cell_type": "code",
   "execution_count": 6,
   "metadata": {},
   "outputs": [],
   "source": [
    "def getDoctors(provider):\n",
    "    \"\"\"Takes persons list as input and returns probable doctors' names \"\"\"\n",
    "    m=[]\n",
    "    for person in provider:\n",
    "        for sentence in document.split('\\n'):\n",
    "            if person in sentence:\n",
    "                if re.search('(?<=Dr. )\\w+\\s\\w+', sentence) != None:\n",
    "                    m.append((re.search('(?<=Dr. )\\w+\\s\\w+', sentence)).group(0).split(' Dr. '))\n",
    "                elif re.search('\\w+.*\\s\\w+.*\\W+(?=MD\\W*)', sentence) != None:\n",
    "                    #print('yes')\n",
    "                    m.append((re.search('\\w+.*\\s\\w+.*\\W+(?=MD\\W*)', sentence)).group(0).split(' MD '))\n",
    "    return m"
   ]
  },
  {
   "cell_type": "code",
   "execution_count": 7,
   "metadata": {},
   "outputs": [],
   "source": [
    "def getDoctors0(provider):\n",
    "    \"\"\"Takes persons list as input and returns probable doctors' names \"\"\"\n",
    "    m=[]\n",
    "    for person in provider:\n",
    "        for sentence in document.split('\\n'):\n",
    "            if person in sentence:\n",
    "                if re.search('(?<=Dr. )\\w+\\s\\w+', sentence) != None:\n",
    "                    m.append((re.findall('(?<=Dr. )\\w+\\s\\w+', sentence)))\n",
    "                elif re.search('\\w+[.\\s]*\\s\\w+(?=\\W+MD[\\W\\b]*)', sentence) != None:\n",
    "                    #print('yes')\n",
    "                    m.append((re.findall('\\w+[.\\s]*\\s\\w+(?=\\W+MD[\\W\\b]*)', sentence)))\n",
    "    return m"
   ]
  },
  {
   "cell_type": "code",
   "execution_count": 8,
   "metadata": {},
   "outputs": [],
   "source": [
    "def getPatients(provider):\n",
    "    \"\"\"Takes persons list as input and returns probable patients name\"\"\"\n",
    "    m=[]\n",
    "    for person in provider:\n",
    "        for sentence in document.split('\\n'):\n",
    "            if person in sentence:\n",
    "                if 'Patient' in sentence:\n",
    "                    m.append(person)\n",
    "    return m"
   ]
  },
  {
   "cell_type": "code",
   "execution_count": 9,
   "metadata": {},
   "outputs": [],
   "source": [
    "def getDOB(document):\n",
    "    dateList=[]\n",
    "    date_strings = re.findall(r\"\\d+[/.-]\\d{2}[/.-]\\d+\", document)\n",
    "    for date in date_strings:\n",
    "        for sentence in document.split('\\n'):\n",
    "            if date in sentence:\n",
    "                if 'DOB' in sentence:\n",
    "                    dateList.append(date)\n",
    "    return dateList"
   ]
  },
  {
   "cell_type": "code",
   "execution_count": 10,
   "metadata": {},
   "outputs": [
    {
     "name": "stdout",
     "output_type": "stream",
     "text": [
      "\n",
      "\n",
      "Documnet Name  Meritian Correspondence.txt-page0.ttxt\n",
      "Probable Doctors:  []\n",
      "Probable patients:  set()\n",
      "Probable organisations:  {'BWNCQWH', 'CORRESPONDENCE', 'MERIT', 'Suite', 'DATES OF', 'Customer Service', 'HEALTH Minneapolis'}\n",
      "Probable DOB:  set()\n",
      "\n",
      "\n",
      "Documnet Name  Cigna Page 2 (4).txt-page0.ttxt\n",
      "Probable Doctors:  []\n",
      "Probable patients:  {'Patient', 'Covered Remark', 'Patient Acct'}\n",
      "Probable organisations:  {'Service Service', 'Patient Service Service', 'Type of Billed Medicare Medicare', 'PTB'}\n",
      "Probable DOB:  set()\n",
      "\n",
      "\n",
      "Documnet Name  explanation_of_benefits.txt-page0.ttxt\n",
      "Probable Doctors:  []\n",
      "Probable patients:  {'Name Patient', 'Baton Rouge', 'Baton Rouge LA'}\n",
      "Probable organisations:  {'New', 'MEDICAL Reason Code', 'Patient', 'TDD', 'Balance Paid Payment Code Amount Covered Code Amount By Plan Amount Amount At Amount', 'Service Code', 'Total Patient', 'Service Service Total', 'EOB', 'Claim', 'EXCEEDS', 'Explanation', 'Employee', 'Customer Service'}\n",
      "Probable DOB:  set()\n",
      "\n",
      "\n",
      "Documnet Name  BCBS Correspondence-1.txt-page0.ttxt\n",
      "Probable Doctors:  []\n",
      "Probable patients:  {'Patient Number'}\n",
      "Probable organisations:  {'Service', 'TFSUPOF', 'RESPONDENC', 'RECEIVED', 'ONLY Original Biled Amount', 'Customer Advocates', 'Blue Cross', 'ALL FOR', 'Mutual Legal Reserve Company'}\n",
      "Probable DOB:  set()\n",
      "\n",
      "\n",
      "Documnet Name  BCBS Correspondence (2).txt-page0.ttxt\n",
      "Probable Doctors:  []\n",
      "Probable patients:  set()\n",
      "Probable organisations:  {'NCoiain', 'Service', 'ONLY', 'COR Group', 'Blue Cross', 'RESPONDENC'}\n",
      "Probable DOB:  set()\n",
      "\n",
      "\n",
      "Documnet Name  Cigna Page 1 (4).txt-page0.ttxt\n",
      "Probable Doctors:  []\n",
      "Probable patients:  {'Covered Remark'}\n",
      "Probable organisations:  {'CSB', 'Control', 'BILL Customer Service', 'RedCard Systems', 'Type of Billed Medicare Service Service', 'Real Time Eligibility', 'Medicare', 'PTB', 'OU Be Spatient', 'EFT', 'JOIF', 'NO', 'RedCard', 'Provider Service Center', 'SUBMIT'}\n",
      "Probable DOB:  set()\n",
      "\n",
      "\n",
      "Documnet Name  Boon Chapman (5).txt-page0.ttxt\n",
      "Probable Doctors:  []\n",
      "Probable patients:  {'Patient'}\n",
      "Probable organisations:  {'Benefil', 'INCLUDED', 'JIBC', 'HO', 'ERISA', 'BILL', 'CODE', 'RECE', 'Customer Service', 'WELLNESS Payment'}\n",
      "Probable DOB:  set()\n",
      "\n",
      "\n",
      "Documnet Name  EOB-3.txt-page0.ttxt\n",
      "Probable Doctors:  []\n",
      "Probable patients:  set()\n",
      "Probable organisations:  {'ROVERRD', 'PAYMENT', 'Medicare', 'Total', 'OoN', 'INFORMATION Re', 'RIVE', 'REASON', 'PPATLENTS', 'PR Bona', 'OUT', 'coveReD', 'POV', 'ROTAL', 'MOUNT', 'OTHER', 'VISIT'}\n",
      "Probable DOB:  set()\n",
      "\n",
      "\n",
      "Documnet Name  Boon Chapman (4).txt-page0.ttxt\n",
      "Probable Doctors:  []\n",
      "Probable patients:  {'Patient'}\n",
      "Probable organisations:  {'Benefil', 'INCLUDED', 'JIBC', 'HO', 'ERISA', 'BILL', 'CODE', 'RECE', 'Customer Service', 'WELLNESS Payment'}\n",
      "Probable DOB:  set()\n"
     ]
    }
   ],
   "source": [
    "fileData=[]\n",
    "for txtFile in textFiles:\n",
    "    with open(txtFile,'r') as fp:\n",
    "        text=fp.read()\n",
    "        text=text.replace(' +',' ')\n",
    "        document = text.strip()\n",
    "        #for document in readDirectory(textFiles):\n",
    "        #tagSentences=preprocess(document)\n",
    "        #print(document)\n",
    "        #doc=document.split('\\n')\n",
    "        print('\\n\\nDocumnet Name ',txtFile)\n",
    "        psList=getPersonList(document)\n",
    "        #print(psList)\n",
    "        osList=getOrganisationList(document)\n",
    "        doctors=getDoctors0(psList)\n",
    "        #print(doctors)\n",
    "        patients=getPatients(psList)\n",
    "        print('Probable Doctors: ',doctors)\n",
    "        print('Probable patients: ',set(patients))\n",
    "        print('Probable organisations: ',set(osList))\n",
    "        print('Probable DOB: ',set(getDOB(document)))"
   ]
  },
  {
   "cell_type": "code",
   "execution_count": 11,
   "metadata": {},
   "outputs": [
    {
     "data": {
      "text/plain": [
       "['Austin TX',\n",
       " 'Benefits RETAIN FOR',\n",
       " 'Contact',\n",
       " 'Policy Holder',\n",
       " 'Patient',\n",
       " 'Ser',\n",
       " 'Reason Provider Covered Deductible',\n",
       " 'Column',\n",
       " 'Reason Code',\n",
       " 'Issue Date Check No',\n",
       " 'Neyer Mates']"
      ]
     },
     "execution_count": 11,
     "metadata": {},
     "output_type": "execute_result"
    }
   ],
   "source": [
    "psList"
   ]
  },
  {
   "cell_type": "code",
   "execution_count": 12,
   "metadata": {},
   "outputs": [],
   "source": [
    "fileData=[]\n",
    "def readDirectory(textFiles):\n",
    "    for txtFile in textFiles:\n",
    "        with open(txtFile,'r') as fp:\n",
    "            text=fp.read()\n",
    "            text = text.strip()\n",
    "            fileData.append(text)\n",
    "    return fileData"
   ]
  },
  {
   "cell_type": "code",
   "execution_count": 13,
   "metadata": {
    "scrolled": true
   },
   "outputs": [
    {
     "name": "stdout",
     "output_type": "stream",
     "text": [
      "\n",
      "\n",
      "Documnet No. \n",
      "Probable Doctors:  []\n",
      "Probable patients:  set()\n",
      "Probable organisations:  {'BWNCQWH', 'CORRESPONDENCE', 'MERIT', 'Suite', 'DATES OF', 'Customer Service', 'HEALTH Minneapolis'}\n",
      "Probable DOB:  set()\n",
      "\n",
      "\n",
      "Documnet No. \n",
      "Probable Doctors:  []\n",
      "Probable patients:  {'Patient', 'Covered Remark', 'Patient Acct'}\n",
      "Probable organisations:  {'Service Service', 'Patient Service Service', 'Type of Billed Medicare Medicare', 'PTB'}\n",
      "Probable DOB:  set()\n",
      "\n",
      "\n",
      "Documnet No. \n",
      "Probable Doctors:  []\n",
      "Probable patients:  {'Name Patient', 'Baton Rouge', 'Baton Rouge LA'}\n",
      "Probable organisations:  {'New', 'MEDICAL Reason Code', 'Patient', 'TDD', 'Balance Paid Payment Code Amount Covered Code Amount By Plan Amount Amount At Amount', 'Service Code', 'Total Patient', 'Service Service Total', 'EOB', 'Claim', 'EXCEEDS', 'Explanation', 'Employee', 'Customer Service'}\n",
      "Probable DOB:  set()\n",
      "\n",
      "\n",
      "Documnet No. \n",
      "Probable Doctors:  []\n",
      "Probable patients:  {'Patient Number'}\n",
      "Probable organisations:  {'Service', 'TFSUPOF', 'RESPONDENC', 'RECEIVED', 'ONLY Original Biled Amount', 'Customer Advocates', 'Blue Cross', 'ALL FOR', 'Mutual Legal Reserve Company'}\n",
      "Probable DOB:  set()\n",
      "\n",
      "\n",
      "Documnet No. \n",
      "Probable Doctors:  []\n",
      "Probable patients:  set()\n",
      "Probable organisations:  {'NCoiain', 'Service', 'ONLY', 'COR Group', 'Blue Cross', 'RESPONDENC'}\n",
      "Probable DOB:  set()\n",
      "\n",
      "\n",
      "Documnet No. \n",
      "Probable Doctors:  []\n",
      "Probable patients:  {'Covered Remark'}\n",
      "Probable organisations:  {'CSB', 'Control', 'BILL Customer Service', 'RedCard Systems', 'Type of Billed Medicare Service Service', 'Real Time Eligibility', 'Medicare', 'PTB', 'OU Be Spatient', 'EFT', 'JOIF', 'NO', 'RedCard', 'Provider Service Center', 'SUBMIT'}\n",
      "Probable DOB:  set()\n",
      "\n",
      "\n",
      "Documnet No. \n",
      "Probable Doctors:  []\n",
      "Probable patients:  {'Patient'}\n",
      "Probable organisations:  {'Benefil', 'INCLUDED', 'JIBC', 'HO', 'ERISA', 'BILL', 'CODE', 'RECE', 'Customer Service', 'WELLNESS Payment'}\n",
      "Probable DOB:  set()\n",
      "\n",
      "\n",
      "Documnet No. \n",
      "Probable Doctors:  []\n",
      "Probable patients:  set()\n",
      "Probable organisations:  {'ROVERRD', 'PAYMENT', 'Medicare', 'Total', 'OoN', 'INFORMATION Re', 'RIVE', 'REASON', 'PPATLENTS', 'PR Bona', 'OUT', 'coveReD', 'POV', 'ROTAL', 'MOUNT', 'OTHER', 'VISIT'}\n",
      "Probable DOB:  set()\n",
      "\n",
      "\n",
      "Documnet No. \n",
      "Probable Doctors:  []\n",
      "Probable patients:  {'Patient'}\n",
      "Probable organisations:  {'Benefil', 'INCLUDED', 'JIBC', 'HO', 'ERISA', 'BILL', 'CODE', 'RECE', 'Customer Service', 'WELLNESS Payment'}\n",
      "Probable DOB:  set()\n"
     ]
    }
   ],
   "source": [
    "i=1\n",
    "for document in readDirectory(textFiles):\n",
    "    #tagSentences=preprocess(document)\n",
    "    #print(document)\n",
    "    #doc=document.split('\\n')\n",
    "    print('\\n\\nDocumnet No. ',)\n",
    "    psList=getPersonList(document)\n",
    "    osList=getOrganisationList(document)\n",
    "    doctors=getDoctors(psList)\n",
    "    patients=getPatients(psList)\n",
    "    print('Probable Doctors: ',doctors)\n",
    "    print('Probable patients: ',set(patients))\n",
    "    print('Probable organisations: ',set(osList))\n",
    "    print('Probable DOB: ',set(getDOB(document)))\n",
    "    i+=1"
   ]
  },
  {
   "cell_type": "code",
   "execution_count": 14,
   "metadata": {},
   "outputs": [],
   "source": [
    "#sentence='I have a problem M. Singh MD'\n",
    "#re.search('\\w+[.\\s]*\\s\\w+(?=\\W+MD[\\W\\b]*)', sentence).group(0).split(' MD ')"
   ]
  }
 ],
 "metadata": {
  "kernelspec": {
   "display_name": "Python 3",
   "language": "python",
   "name": "python3"
  },
  "language_info": {
   "codemirror_mode": {
    "name": "ipython",
    "version": 3
   },
   "file_extension": ".py",
   "mimetype": "text/x-python",
   "name": "python",
   "nbconvert_exporter": "python",
   "pygments_lexer": "ipython3",
   "version": "3.6.8"
  }
 },
 "nbformat": 4,
 "nbformat_minor": 2
}
